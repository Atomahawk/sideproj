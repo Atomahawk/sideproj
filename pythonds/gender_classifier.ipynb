{
 "cells": [
  {
   "cell_type": "code",
   "execution_count": 19,
   "metadata": {
    "collapsed": false
   },
   "outputs": [
    {
     "name": "stdout",
     "output_type": "stream",
     "text": [
      "Python Version: 3.6.1 |Anaconda custom (x86_64)| (default, Mar 22 2017, 19:25:17) \n",
      "[GCC 4.2.1 Compatible Apple LLVM 6.0 (clang-600.0.57)]\n",
      "Numpy version: 1.12.1\n",
      "Sci-kit learn version: 0.18.1\n"
     ]
    }
   ],
   "source": [
    "import sys\n",
    "print(\"Python Version:\", sys.version)\n",
    "import numpy as np\n",
    "print('Numpy version:',np.__version__)\n",
    "import sklearn \n",
    "from sklearn import tree\n",
    "print('Sci-kit learn version:', sklearn.__version__)\n",
    "\n",
    "# allows us to create decision tree machine learning models"
   ]
  },
  {
   "cell_type": "code",
   "execution_count": 10,
   "metadata": {
    "collapsed": true
   },
   "outputs": [],
   "source": [
    "# Dataset of 11 males and females ordered by their measurements\n",
    "\n",
    "# [height, weight, shoesize]\n",
    "X = [[181,80,44],[177,70,43],[160,60,38],[154,54,37],[166,65,40],\n",
    "\t [190,90,47],[175,64,39],[177,70,40],[159,55,37],[171,75,42],\n",
    "\t [181,85,43]]\n",
    "\n",
    "Y = ['male','female','female','female','male','male','male','female','male','female','male']"
   ]
  },
  {
   "cell_type": "code",
   "execution_count": 11,
   "metadata": {
    "collapsed": true
   },
   "outputs": [],
   "source": [
    "# set-up model: decision tree classifier (clf)\n",
    "clf = tree.DecisionTreeClassifier()\n",
    "\n",
    "# store result in the clf variable\n",
    "# \"fit\" method trains decision tree on our data\n",
    "clf = clf.fit(X,Y)"
   ]
  },
  {
   "cell_type": "code",
   "execution_count": 22,
   "metadata": {
    "collapsed": false
   },
   "outputs": [
    {
     "name": "stdout",
     "output_type": "stream",
     "text": [
      "['female']\n"
     ]
    },
    {
     "name": "stderr",
     "output_type": "stream",
     "text": [
      "/Users/eastblue/anaconda/lib/python3.6/site-packages/sklearn/utils/validation.py:395: DeprecationWarning: Passing 1d arrays as data is deprecated in 0.17 and will raise ValueError in 0.19. Reshape your data either using X.reshape(-1, 1) if your data has a single feature or X.reshape(1, -1) if it contains a single sample.\n",
      "  DeprecationWarning)\n"
     ]
    }
   ],
   "source": [
    "# predict gender given a new value\n",
    "# [height, weight, shoesize]\n",
    "new_value = [150,50,36]\n",
    "prediction = clf.predict(new_value)\n",
    "print(prediction)"
   ]
  },
  {
   "cell_type": "code",
   "execution_count": null,
   "metadata": {
    "collapsed": true
   },
   "outputs": [],
   "source": [
    "### New measurements are predicted to be female, given out training set."
   ]
  }
 ],
 "metadata": {
  "kernelspec": {
   "display_name": "Python 3",
   "language": "python",
   "name": "python3"
  },
  "language_info": {
   "codemirror_mode": {
    "name": "ipython",
    "version": 3
   },
   "file_extension": ".py",
   "mimetype": "text/x-python",
   "name": "python",
   "nbconvert_exporter": "python",
   "pygments_lexer": "ipython3",
   "version": "3.6.1"
  }
 },
 "nbformat": 4,
 "nbformat_minor": 2
}
